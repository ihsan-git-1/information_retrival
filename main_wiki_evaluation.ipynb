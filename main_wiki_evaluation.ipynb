{
 "cells": [
  {
   "cell_type": "code",
   "execution_count": 1,
   "metadata": {},
   "outputs": [],
   "source": [
    "from core.vsm_visualizer import VectorSpaceModel\n",
    "from core.query import QueryHandler\n",
    "import ir_datasets\n",
    "import ir_measures\n",
    "from ir_measures import nDCG, P, Judged, R, AP, RR,AP_IA\n",
    "import pandas as pd\n",
    "import json"
   ]
  },
  {
   "cell_type": "markdown",
   "metadata": {},
   "source": [
    "## Initializing Datasets and Variables"
   ]
  },
  {
   "cell_type": "code",
   "execution_count": 2,
   "metadata": {},
   "outputs": [],
   "source": [
    "dataset = ir_datasets.load(\"wikir/en1k/test\")\n",
    "\n",
    "vsm = VectorSpaceModel.load(\"wiki_state.pkl\")\n",
    "query_handler = QueryHandler(vsm)"
   ]
  },
  {
   "cell_type": "markdown",
   "metadata": {},
   "source": [
    "### Initializing Queries and storing the results"
   ]
  },
  {
   "cell_type": "code",
   "execution_count": 3,
   "metadata": {},
   "outputs": [
    {
     "name": "stderr",
     "output_type": "stream",
     "text": [
      "/opt/anaconda3/lib/python3.11/site-packages/sklearn/feature_extraction/text.py:408: UserWarning: Your stop_words may be inconsistent with your preprocessing. Tokenizing the stop words generated tokens ['afterward', 'alon', 'alreadi', 'alway', 'anoth', 'anyon', 'anyth', 'anywher', 'becam', 'becom', 'besid', 'colombia', 'cri', 'describ', 'egypt', 'els', 'elsewher', 'empti', 'everi', 'everyon', 'everyth', 'everywher', 'fifti', 'formerli', 'forti', 'germani', 'henc', 'hereaft', 'herebi', 'howev', 'hundr', 'inde', 'ireland', 'latterli', 'mani', 'meanwhil', 'moreov', 'mostli', 'nobodi', 'noon', 'noth', 'nowher', 'otherwis', 'perhap', 'peru', 'pleas', 'seriou', 'sever', 'sinc', 'sincer', 'sixti', 'someon', 'someth', 'sometim', 'somewher', 'state', 'thenc', 'thereaft', 'therebi', 'therefor', 'thu', 'togeth', 'twelv', 'twenti', 'unit', 'whatev', 'whenc', 'whenev', 'wherea', 'whereaft', 'wherebi', 'wherev'] not in stop_words.\n",
      "  warnings.warn(\n"
     ]
    }
   ],
   "source": [
    "# Get queries\n",
    "queries = dataset.queries_iter()\n",
    "\n",
    "query_rows = []\n",
    "for index, (query_id, query_text) in enumerate(queries):\n",
    "    # search for the query\n",
    "    search_results = query_handler.search(query_text,similarity_threshold= 0.001)\n",
    "    for (document, similarity) in search_results:\n",
    "        new_row = {'query_id': query_id,\n",
    "                   'doc_id': document[0], \n",
    "                   'score': similarity}\n",
    "        query_rows.append(new_row)\n",
    "\n",
    "\n",
    "query_table_results = pd.DataFrame(\n",
    "    query_rows, columns=['query_id', 'doc_id', 'score'])"
   ]
  },
  {
   "cell_type": "markdown",
   "metadata": {},
   "source": [
    "### Add the qrels into dataframe"
   ]
  },
  {
   "cell_type": "code",
   "execution_count": 4,
   "metadata": {},
   "outputs": [],
   "source": [
    "# get the qrels into dataframe\n",
    "qrels_rows = []\n",
    "\n",
    "for qrel in dataset.qrels_iter():\n",
    "    new_row = {'query_id': qrel.query_id,\n",
    "                   'doc_id': qrel.doc_id, 'relevance': qrel.relevance}\n",
    "    qrels_rows.append(new_row)\n",
    "\n",
    "qrels_table_results = pd.DataFrame(\n",
    "    qrels_rows, columns=['query_id', 'doc_id', 'relevance'])"
   ]
  },
  {
   "cell_type": "markdown",
   "metadata": {},
   "source": [
    "### Claculate The Evaluation Results"
   ]
  },
  {
   "cell_type": "code",
   "execution_count": 5,
   "metadata": {},
   "outputs": [
    {
     "data": {
      "text/plain": [
       "{AP: 0.1592827558164802,\n",
       " R@10: 0.18194934268357665,\n",
       " AP(rel=2): 0.5356769255138595,\n",
       " RR: 0.6231084940743323,\n",
       " P@10: 0.19200000000000003}"
      ]
     },
     "execution_count": 5,
     "metadata": {},
     "output_type": "execute_result"
    }
   ],
   "source": [
    "ir_measures.calc_aggregate(\n",
    "    [\n",
    "    AP(rel=1),\n",
    "    AP(rel=2),\n",
    "    P(rel=1)@10,\n",
    "    R(rel=1)@10,\n",
    "    RR(rel=1)], \n",
    "    qrels_table_results,\n",
    "    query_table_results\n",
    "    )"
   ]
  },
  {
   "cell_type": "markdown",
   "metadata": {},
   "source": [
    "{AP: 0.1592827558164802,\n",
    " R@10: 0.18194934268357665,\n",
    " AP(rel=2): 0.5356769255138595,\n",
    " RR: 0.6231084940743323,\n",
    " P@10: 0.19200000000000003}"
   ]
  }
 ],
 "metadata": {
  "kernelspec": {
   "display_name": "base",
   "language": "python",
   "name": "python3"
  },
  "language_info": {
   "codemirror_mode": {
    "name": "ipython",
    "version": 3
   },
   "file_extension": ".py",
   "mimetype": "text/x-python",
   "name": "python",
   "nbconvert_exporter": "python",
   "pygments_lexer": "ipython3",
   "version": "3.11.8"
  }
 },
 "nbformat": 4,
 "nbformat_minor": 2
}
